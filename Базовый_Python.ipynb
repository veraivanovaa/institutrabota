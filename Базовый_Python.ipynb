{
  "cells": [
    {
      "cell_type": "markdown",
      "metadata": {
        "id": "TZ0_ZH9FWLPW"
      },
      "source": [
        "\n",
        "Напишите программу, которая использует функцию печати, чтобы сказать \"Привет, мир\"."
      ]
    },
    {
      "cell_type": "code",
      "execution_count": 4,
      "metadata": {
        "colab": {
          "base_uri": "https://localhost:8080/",
          "height": 191
        },
        "id": "v-vEgtR-WOJk",
        "outputId": "39a0ecce-d707-4a12-fb2d-929717e9fbd0"
      },
      "outputs": [
        {
          "name": "stdout",
          "output_type": "stream",
          "text": [
            "Привет, мир\n"
          ]
        }
      ],
      "source": [
        "# приведенный ниже код почти работает\n",
        "print('Привет, мир')"
      ]
    },
    {
      "cell_type": "markdown",
      "metadata": {
        "id": "LdBF9zPdXbjV"
      },
      "source": [
        "---"
      ]
    },
    {
      "cell_type": "markdown",
      "metadata": {
        "id": "AA_gvWcOWTcj"
      },
      "source": [
        "Напишите программу, предлагающую пользователю ввести количество часов и почасовую ставку для расчета заработной платы.\n",
        "\n",
        "`Укажите количество часов: 35 `\n",
        "\n",
        "`Укажите ставку: 2.75 `\n",
        "\n",
        "`Оплата: 96.25`"
      ]
    },
    {
      "cell_type": "code",
      "execution_count": 12,
      "metadata": {
        "id": "Lem_v19LXDUf"
      },
      "outputs": [
        {
          "name": "stdout",
          "output_type": "stream",
          "text": [
            "Укажите количество часов: 0\n",
            "Укажите ставку: 0\n",
            "Оплата: 0\n"
          ]
        }
      ],
      "source": [
        "a=int()\n",
        "b=int()\n",
        "c=a*b\n",
        "print('Укажите количество часов:', a )\n",
        "print('Укажите ставку:', b)\n",
        "print('Оплата:',c)"
      ]
    },
    {
      "cell_type": "markdown",
      "metadata": {
        "id": "NW2h_o1-XduA"
      },
      "source": [
        "---"
      ]
    },
    {
      "cell_type": "markdown",
      "metadata": {
        "id": "DdFpxzdCXTfu"
      },
      "source": [
        "\n",
        "2.2 Напишите программу, которая использует ввод для запроса имени пользователя, а затем приветствует его."
      ]
    },
    {
      "cell_type": "code",
      "execution_count": 1,
      "metadata": {
        "id": "oQpCASvfXTGn"
      },
      "outputs": [
        {
          "name": "stdout",
          "output_type": "stream",
          "text": [
            "Привет, ВЕРА\n"
          ]
        }
      ],
      "source": [
        "# Приведенный ниже код почти работает\n",
        "name = input(\"Введите ваше имя\")\n",
        "print(\"Привет,\" , name)"
      ]
    },
    {
      "cell_type": "markdown",
      "metadata": {
        "id": "vUqDf0neXlBf"
      },
      "source": [
        "---"
      ]
    },
    {
      "cell_type": "markdown",
      "metadata": {
        "id": "Qinoa83_XBr4"
      },
      "source": [
        "2.3 Напишите программу, которая запрашивала бы у пользователя количество часов и почасовую ставку, используя входные данные для расчета заработной платы. Используйте 35 часов и ставку 275 в час для тестирования программы (оплата должна составлять 9625). Вы должны использовать input для чтения строки и float() для преобразования строки в число. Не беспокойтесь о проверке ошибок или неверных пользовательских данных."
      ]
    },
    {
      "cell_type": "code",
      "execution_count": 15,
      "metadata": {
        "id": "ZSFYAwoDXP2-"
      },
      "outputs": [
        {
          "name": "stdout",
          "output_type": "stream",
          "text": [
            "Оплата: 9625.0\n"
          ]
        }
      ],
      "source": [
        "# Эта первая строка написана за вас\n",
        "\n",
        "hrs = float(input(\"Введите кол-во часов:\"))\n",
        "a=float(input(\"Введите почасовую ставку:\"))\n",
        "print('Оплата:', a*hrs)\n",
        "\n",
        "\n"
      ]
    },
    {
      "cell_type": "markdown",
      "metadata": {
        "id": "psb66pnCYj_-"
      },
      "source": [
        "---\n",
        "3.1 Напишите программу, которая запрашивала бы у пользователя количество часов и почасовую ставку, используя входные данные для расчета заработной платы. Оплачивайте почасовую ставку за отработанные часы до 40 и в 1,5 раза больше почасовой ставки за все отработанные часы свыше 40 часов. Используйте 45 часов и ставку 1050 в час для тестирования программы (оплата должна составлять 49875). Вы должны использовать input для чтения строки и float() для преобразования строки в число. Не беспокойтесь об ошибках при проверке пользовательского ввода - предположим, что пользователь вводит числа правильно."
      ]
    },
    {
      "cell_type": "code",
      "execution_count": 20,
      "metadata": {
        "id": "NLQ5fl2tYnaO"
      },
      "outputs": [
        {
          "name": "stdout",
          "output_type": "stream",
          "text": [
            "Оплата: 112875.0\n"
          ]
        }
      ],
      "source": [
        "\n",
        "hrs = float(input(\"Введите кол-во часов:\"))\n",
        "a=float(input(\"Введите почасовую ставку:\"))\n",
        "if hrs<=40:\n",
        "    print('Оплата:', a*hrs)\n",
        "else:\n",
        "    print('Оплата:', a*40+(hrs-40)*a*1.5)\n"
      ]
    },
    {
      "cell_type": "markdown",
      "metadata": {
        "id": "8pBikta_Yrwa"
      },
      "source": [
        "---\n",
        "3.3 Напишите программу, которая запрашивала бы оценку от 0.0 до 1.0. Если оценка выходит за пределы допустимого диапазона, выведите сообщение об ошибке. Если оценка находится в диапазоне от 0,0 до 1,0, выведите оценку, используя следующую таблицу:\n",
        "```\n",
        "Оценки\n",
        ">= 0.9 5\n",
        ">= 0.8 4\n",
        ">= 0.7 3\n",
        ">= 0.6 2\n",
        "< 0.6 2\n",
        "```\n",
        "Если пользователь вводит значение, выходящее за пределы допустимого диапазона, выведите подходящее сообщение об ошибке и завершите работу. Для прохождения теста введите оценку 0,85.\n",
        "\n",
        "\n"
      ]
    },
    {
      "cell_type": "code",
      "execution_count": 6,
      "metadata": {
        "id": "zZhcrzejYyVa"
      },
      "outputs": [
        {
          "name": "stdout",
          "output_type": "stream",
          "text": [
            "4\n"
          ]
        }
      ],
      "source": [
        "score = float(input(\"Введите оценку: \"))\n",
        "if score>1:\n",
        "    print('ошибка')\n",
        "elif score>=0.9:\n",
        "    print('5')\n",
        "elif score>=0.8:\n",
        "    print('4')\n",
        "elif score>=0.7:\n",
        "    print('3')\n",
        "elif score>=0:\n",
        "    print('2')\n",
        "else:\n",
        "    print('ошибка')"
      ]
    },
    {
      "cell_type": "markdown",
      "metadata": {
        "id": "66Sp8u6zZREP"
      },
      "source": [
        "---\n",
        "5.2 Напишите программу, которая повторно запрашивает у пользователя целые числа до тех пор, пока пользователь не введет \"готово\". Как только будет введено \"готово\", распечатайте самое большое и самое маленькое из чисел. Если пользователь вводит что-либо, отличное от действительного номера, перехватите это с помощью try /except и отправьте соответствующее сообщение, игнорируя номер."
      ]
    },
    {
      "cell_type": "code",
      "execution_count": 45,
      "metadata": {
        "id": "nGpZA2m7ZSTj"
      },
      "outputs": [
        {
          "name": "stdout",
          "output_type": "stream",
          "text": [
            "77.0\n",
            "88.0\n",
            "99.0\n",
            "44.0\n",
            "33.0\n",
            "орпгр ne nomer\n",
            "9876.0\n",
            "ппп ne nomer\n",
            "1.0\n",
            "Минимальное 1.0\n",
            "Максимальное 9876.0\n"
          ]
        }
      ],
      "source": [
        "largest = None\n",
        "smallest = None\n",
        "while True:\n",
        "    num = input(\"Введите число: \")\n",
        "    if num == \"готово\":\n",
        "        break\n",
        "    try:\n",
        "        num = float(num)\n",
        "        print(num)\n",
        "    except:\n",
        "        print(num, \"ne nomer\")\n",
        "        continue\n",
        "    if not smallest or num < smallest:\n",
        "        smallest=num\n",
        "    if not largest or num > largest:\n",
        "        largest=num\n",
        "\n",
        "print(\"Минимальное\", smallest)\n",
        "print(\"Максимальное\", largest)"
      ]
    },
    {
      "cell_type": "code",
      "execution_count": null,
      "metadata": {},
      "outputs": [],
      "source": []
    },
    {
      "cell_type": "markdown",
      "metadata": {
        "id": "7iWKiAWzZaGo"
      },
      "source": [
        "---\n",
        " 6.5 Напишите код, используя find() и нарезку строк, чтобы извлечь число в конце строки ниже. Преобразуйте извлеченное значение в число с плавающей запятой и распечатайте его."
      ]
    },
    {
      "cell_type": "code",
      "execution_count": 58,
      "metadata": {
        "id": "wGnUz70UZbxN"
      },
      "outputs": [
        {
          "name": "stdout",
          "output_type": "stream",
          "text": [
            "0.8475\n"
          ]
        }
      ],
      "source": [
        "text = \"X-DSPAM-Confidence:    0.8475\"\n",
        "ya_tut = text.find('0.8475')\n",
        "ya_chislo = text[ya_tut:]\n",
        "ya_float = float(ya_chislo)\n",
        "print(ya_float)"
      ]
    },
    {
      "cell_type": "markdown",
      "metadata": {
        "id": "OchRPD0iZ9kR"
      },
      "source": [
        "---\n",
        "\n",
        "8.4 Для каждой строки стиха разделите строку на список слов, используя метод split(). Программа должна составить список слов. Для каждого слова в каждой строке проверьте, есть ли это слово уже в списке, и если нет, добавьте его в список. Когда программа завершит работу, отсортируйте по алфавиту и выведите полученные слова в терминал."
      ]
    },
    {
      "cell_type": "code",
      "execution_count": 7,
      "metadata": {},
      "outputs": [
        {
          "name": "stdout",
          "output_type": "stream",
          "text": [
            "Златая\n",
            "У\n",
            "дуб\n",
            "дубе\n",
            "зелёный\n",
            "лукоморья\n",
            "на\n",
            "том:\n",
            "цепь\n"
          ]
        }
      ],
      "source": [
        "poem = \"\"\"\n",
        "У лукоморья дуб зелёный\n",
        "Златая цепь на дубе том:\n",
        "\"\"\"\n",
        "\n",
        "lines = poem.split('\\n')\n",
        "\n",
        "unique_words = [] = list()\n",
        "\n",
        "\n",
        "for line in lines:\n",
        "\n",
        "    words = line.split()\n",
        "\n",
        "    for word in words:\n",
        "        if word not in unique_words:\n",
        "            unique_words.append(word)\n",
        "\n",
        "unique_words.sort()\n",
        "\n",
        "for word in unique_words:\n",
        "    print(word)\n",
        "    "
      ]
    },
    {
      "cell_type": "markdown",
      "metadata": {},
      "source": []
    },
    {
      "cell_type": "markdown",
      "metadata": {},
      "source": [
        "poem = \"\"\"\n",
        "У лукоморья дуб зелёный\n",
        "Златая цепь на дубе том:\n",
        "\"\"\"\n",
        "\n",
        "lines = poem.split('\\n')\n",
        "\n",
        "unique_words = []\n",
        "\n",
        "for line in lines:\n",
        "\n",
        "    words = line.split()\n",
        "\n",
        "    for word in words:\n",
        "        if word not in unique_words:\n",
        "            unique_words.append(word)\n",
        "\n",
        "unique_words.sort()\n",
        "\n",
        "for word in unique_words:\n",
        "    print(word)\n",
        "    "
      ]
    },
    {
      "cell_type": "markdown",
      "metadata": {
        "id": "P8H7rz35aZ9I"
      },
      "source": [
        "---\n",
        " 8.5 Откройте файл mbox-short.txt и прочитайте его построчно. Когда вы найдете строку, начинающуюся с \"From\", как в следующей строке:\n",
        "\n",
        "From stephen.marquard@uct.ac.za Sat Jan  5 09:14:16 2008\n",
        "\n",
        "Вы проанализируете строку From с помощью функции split() и выведете второе слово в строке (т.е. полный адрес человека, отправившего сообщение). Затем распечатайте подсчет в конце.\n",
        "\n",
        "Подсказка: убедитесь, что не включаете строки, начинающиеся с \"From:\". Также посмотрите на последнюю строку примера выходных данных, чтобы увидеть, как вывести количество.\n",
        "\n",
        "Вы можете загрузить образцы данных по адресу http://www.py4e.com/code3/mbox-short.txt\n",
        "\n",
        "```stephen.marquard@uct.ac.za\n",
        "louis@media.berkeley.edu\n",
        "zqian@umich.edu\n",
        "rjlowe@iupui.edu\n",
        "zqian@umich.edu\n",
        "rjlowe@iupui.edu\n",
        "cwen@iupui.edu\n",
        "cwen@iupui.edu\n",
        "```"
      ]
    },
    {
      "cell_type": "code",
      "execution_count": 85,
      "metadata": {
        "id": "zpwC9AyAaNKL"
      },
      "outputs": [
        {
          "name": "stdout",
          "output_type": "stream",
          "text": [
            "['But', 'Juliet', 'already', 'and', 'and', 'and', 'breaks\\nIt', 'east', 'envious', 'fair', 'grief', 'is', 'is', 'is', 'kill', 'light', 'moon\\nWho', 'pale', 'sick', 'soft', 'sun', 'sun\\nArise', 'the', 'the', 'the', 'through', 'what', 'window', 'with', 'yonder']\n"
          ]
        }
      ],
      "source": [
        "str = \"\"\"But soft what light through yonder window breaks\n",
        "It is the east and Juliet is the sun\n",
        "Arise fair sun and kill the envious moon\n",
        "Who is already sick and pale with grief\"\"\"\n",
        "a = str.split(' ')\n",
        "a.sort()\n",
        "print(a)\n"
      ]
    },
    {
      "cell_type": "code",
      "execution_count": null,
      "metadata": {
        "colab": {
          "base_uri": "https://localhost:8080/"
        },
        "id": "OyYDHGvKFRb0",
        "outputId": "a31e3379-9b78-4bb7-bf91-5aedf0d2cc91"
      },
      "outputs": [
        {
          "name": "stdout",
          "output_type": "stream",
          "text": [
            "From stephen.marquard@uct.ac.za Sat Jan  5 09:14:16 2008\n",
            "Return-Path: <postmaster@collab.sakaiproject.org>\n",
            "Received: from murder (mail.umich.edu [141.211.14.90])\n",
            "\t by frankenstein.mail.umich.edu (Cyrus v2.3.8) with LMTPA;\n",
            "\t Sat, 05 Jan 2008 09:14:16 -0500\n",
            "X-Sieve: CMU Sieve 2.3\n",
            "Received: from murder ([unix socket])\n",
            "\t by mail.umich.edu (Cyrus v2.2.12) with LMTPA;\n",
            "\t Sat, 05 Jan 2008 09:14:16 -0500\n",
            "Received: from holes.mr.itd.umich.edu (holes.mr.itd.umich.edu [141.211.14.79])\n",
            "\tby flawless.mail.umich.edu () with ESMTP id m05EEFR1013674;\n",
            "\tSat, 5 Jan 2008 09:14:15 -0500\n",
            "Received: FROM paploo.uhi.ac.uk (app1.prod.collab.uhi.ac.uk [194.35.219.184])\n",
            "\tBY holes.mr.itd.umich.edu ID 477F90B0.2DB2F.12494 ; \n",
            "\t 5 Jan 2008 09:14:10 -0500\n",
            "Received: from paploo.uhi.ac.uk (localhost [127.0.0.1])\n",
            "\tby paploo.uhi.ac.uk (Postfix) with ESMTP id 5F919BC2F2;\n",
            "\tSat,  5 Jan 2008 14:10:05 +0000 (GMT)\n",
            "Message-ID: <200801051412.m05ECIaH010327@nakamura.uits.iupui.edu>\n",
            "Mime-Version: 1.0\n",
            "Content-Transfer-Encoding: 7bit\n",
            "Received: from prod.collab.uhi.ac.uk ([194.35.219.182])\n",
            "          by paploo.uhi.ac.uk (JAMES SMTP Server 2.1.3) with SMTP ID 899\n",
            "          for <source@collab.sakaiproject.org>;\n",
            "          Sat, 5 Jan 2008 14:09:50 +0000 (GMT)\n",
            "Received: from nakamura.uits.iupui.edu (nakamura.uits.iupui.edu [134.68.220.122])\n",
            "\tby shmi.uhi.ac.uk (Postfix) with ESMTP id A215243002\n",
            "\tfor <source@collab.sakaiproject.org>; Sat,  5 Jan 2008 14:13:33 +0000 (GMT)\n",
            "Received: from nakamura.uits.iupui.edu (localhost [127.0.0.1])\n",
            "\tby nakamura.uits.iupui.edu (8.12.11.20060308/8.12.11) with ESMTP id m05ECJVp010329\n",
            "\tfor <source@collab.sakaiproject.org>; Sat, 5 Jan 2008 09:12:19 -0500\n",
            "Received: (from apache@localhost)\n",
            "\tby nakamura.uits.iupui.edu (8.12.11.20060308/8.12.11/Submit) id m05ECIaH010327\n",
            "\tfor source@collab.sakaiproject.org; Sat, 5 Jan 2008 09:12:18 -0500\n",
            "Date: Sat, 5 Jan 2008 09:12:18 -0500\n"
          ]
        }
      ],
      "source": [
        "file_contents = \"\"\"From stephen.marquard@uct.ac.za Sat Jan  5 09:14:16 2008\n",
        "Return-Path: <postmaster@collab.sakaiproject.org>\n",
        "Received: from murder (mail.umich.edu [141.211.14.90])\n",
        "\t by frankenstein.mail.umich.edu (Cyrus v2.3.8) with LMTPA;\n",
        "\t Sat, 05 Jan 2008 09:14:16 -0500\n",
        "X-Sieve: CMU Sieve 2.3\n",
        "Received: from murder ([unix socket])\n",
        "\t by mail.umich.edu (Cyrus v2.2.12) with LMTPA;\n",
        "\t Sat, 05 Jan 2008 09:14:16 -0500\n",
        "Received: from holes.mr.itd.umich.edu (holes.mr.itd.umich.edu [141.211.14.79])\n",
        "\tby flawless.mail.umich.edu () with ESMTP id m05EEFR1013674;\n",
        "\tSat, 5 Jan 2008 09:14:15 -0500\n",
        "Received: FROM paploo.uhi.ac.uk (app1.prod.collab.uhi.ac.uk [194.35.219.184])\n",
        "\tBY holes.mr.itd.umich.edu ID 477F90B0.2DB2F.12494 ;\n",
        "\t 5 Jan 2008 09:14:10 -0500\n",
        "Received: from paploo.uhi.ac.uk (localhost [127.0.0.1])\n",
        "\tby paploo.uhi.ac.uk (Postfix) with ESMTP id 5F919BC2F2;\n",
        "\tSat,  5 Jan 2008 14:10:05 +0000 (GMT)\n",
        "Message-ID: <200801051412.m05ECIaH010327@nakamura.uits.iupui.edu>\n",
        "Mime-Version: 1.0\n",
        "Content-Transfer-Encoding: 7bit\n",
        "Received: from prod.collab.uhi.ac.uk ([194.35.219.182])\n",
        "          by paploo.uhi.ac.uk (JAMES SMTP Server 2.1.3) with SMTP ID 899\n",
        "          for <source@collab.sakaiproject.org>;\n",
        "          Sat, 5 Jan 2008 14:09:50 +0000 (GMT)\n",
        "Received: from nakamura.uits.iupui.edu (nakamura.uits.iupui.edu [134.68.220.122])\n",
        "\tby shmi.uhi.ac.uk (Postfix) with ESMTP id A215243002\n",
        "\tfor <source@collab.sakaiproject.org>; Sat,  5 Jan 2008 14:13:33 +0000 (GMT)\n",
        "Received: from nakamura.uits.iupui.edu (localhost [127.0.0.1])\n",
        "\tby nakamura.uits.iupui.edu (8.12.11.20060308/8.12.11) with ESMTP id m05ECJVp010329\n",
        "\tfor <source@collab.sakaiproject.org>; Sat, 5 Jan 2008 09:12:19 -0500\n",
        "Received: (from apache@localhost)\n",
        "\tby nakamura.uits.iupui.edu (8.12.11.20060308/8.12.11/Submit) id m05ECIaH010327\n",
        "\tfor source@collab.sakaiproject.org; Sat, 5 Jan 2008 09:12:18 -0500\n",
        "Date: Sat, 5 Jan 2008 09:12:18 -0500\"\"\"\n",
        "print(file_contents)"
      ]
    },
    {
      "cell_type": "code",
      "execution_count": null,
      "metadata": {
        "colab": {
          "base_uri": "https://localhost:8080/",
          "height": 394
        },
        "id": "YiRKnvtuabVU",
        "outputId": "763e26b2-1919-447b-f853-eba9f770b5ad"
      },
      "outputs": [
        {
          "ename": "KeyboardInterrupt",
          "evalue": "ignored",
          "output_type": "error",
          "traceback": [
            "\u001b[0;31m---------------------------------------------------------------------------\u001b[0m",
            "\u001b[0;31mKeyboardInterrupt\u001b[0m                         Traceback (most recent call last)",
            "\u001b[0;32m<ipython-input-2-89024a75245a>\u001b[0m in \u001b[0;36m<cell line: 1>\u001b[0;34m()\u001b[0m\n\u001b[0;32m----> 1\u001b[0;31m \u001b[0mfname\u001b[0m \u001b[0;34m=\u001b[0m \u001b[0minput\u001b[0m\u001b[0;34m(\u001b[0m\u001b[0;34m\"Название файла: \"\u001b[0m\u001b[0;34m)\u001b[0m\u001b[0;34m\u001b[0m\u001b[0;34m\u001b[0m\u001b[0m\n\u001b[0m\u001b[1;32m      2\u001b[0m \u001b[0;32mif\u001b[0m \u001b[0mlen\u001b[0m\u001b[0;34m(\u001b[0m\u001b[0mfname\u001b[0m\u001b[0;34m)\u001b[0m \u001b[0;34m<\u001b[0m \u001b[0;36m1\u001b[0m\u001b[0;34m:\u001b[0m\u001b[0;34m\u001b[0m\u001b[0;34m\u001b[0m\u001b[0m\n\u001b[1;32m      3\u001b[0m     \u001b[0mfname\u001b[0m \u001b[0;34m=\u001b[0m \u001b[0;34m\"mbox-short.txt\"\u001b[0m\u001b[0;34m\u001b[0m\u001b[0;34m\u001b[0m\u001b[0m\n\u001b[1;32m      4\u001b[0m \u001b[0;34m\u001b[0m\u001b[0m\n\u001b[1;32m      5\u001b[0m \u001b[0mfh\u001b[0m \u001b[0;34m=\u001b[0m \u001b[0mopen\u001b[0m\u001b[0;34m(\u001b[0m\u001b[0mfname\u001b[0m\u001b[0;34m)\u001b[0m\u001b[0;34m\u001b[0m\u001b[0;34m\u001b[0m\u001b[0m\n",
            "\u001b[0;32m/usr/local/lib/python3.10/dist-packages/ipykernel/kernelbase.py\u001b[0m in \u001b[0;36mraw_input\u001b[0;34m(self, prompt)\u001b[0m\n\u001b[1;32m    849\u001b[0m                 \u001b[0;34m\"raw_input was called, but this frontend does not support input requests.\"\u001b[0m\u001b[0;34m\u001b[0m\u001b[0;34m\u001b[0m\u001b[0m\n\u001b[1;32m    850\u001b[0m             )\n\u001b[0;32m--> 851\u001b[0;31m         return self._input_request(str(prompt),\n\u001b[0m\u001b[1;32m    852\u001b[0m             \u001b[0mself\u001b[0m\u001b[0;34m.\u001b[0m\u001b[0m_parent_ident\u001b[0m\u001b[0;34m,\u001b[0m\u001b[0;34m\u001b[0m\u001b[0;34m\u001b[0m\u001b[0m\n\u001b[1;32m    853\u001b[0m             \u001b[0mself\u001b[0m\u001b[0;34m.\u001b[0m\u001b[0m_parent_header\u001b[0m\u001b[0;34m,\u001b[0m\u001b[0;34m\u001b[0m\u001b[0;34m\u001b[0m\u001b[0m\n",
            "\u001b[0;32m/usr/local/lib/python3.10/dist-packages/ipykernel/kernelbase.py\u001b[0m in \u001b[0;36m_input_request\u001b[0;34m(self, prompt, ident, parent, password)\u001b[0m\n\u001b[1;32m    893\u001b[0m             \u001b[0;32mexcept\u001b[0m \u001b[0mKeyboardInterrupt\u001b[0m\u001b[0;34m:\u001b[0m\u001b[0;34m\u001b[0m\u001b[0;34m\u001b[0m\u001b[0m\n\u001b[1;32m    894\u001b[0m                 \u001b[0;31m# re-raise KeyboardInterrupt, to truncate traceback\u001b[0m\u001b[0;34m\u001b[0m\u001b[0;34m\u001b[0m\u001b[0m\n\u001b[0;32m--> 895\u001b[0;31m                 \u001b[0;32mraise\u001b[0m \u001b[0mKeyboardInterrupt\u001b[0m\u001b[0;34m(\u001b[0m\u001b[0;34m\"Interrupted by user\"\u001b[0m\u001b[0;34m)\u001b[0m \u001b[0;32mfrom\u001b[0m \u001b[0;32mNone\u001b[0m\u001b[0;34m\u001b[0m\u001b[0;34m\u001b[0m\u001b[0m\n\u001b[0m\u001b[1;32m    896\u001b[0m             \u001b[0;32mexcept\u001b[0m \u001b[0mException\u001b[0m \u001b[0;32mas\u001b[0m \u001b[0me\u001b[0m\u001b[0;34m:\u001b[0m\u001b[0;34m\u001b[0m\u001b[0;34m\u001b[0m\u001b[0m\n\u001b[1;32m    897\u001b[0m                 \u001b[0mself\u001b[0m\u001b[0;34m.\u001b[0m\u001b[0mlog\u001b[0m\u001b[0;34m.\u001b[0m\u001b[0mwarning\u001b[0m\u001b[0;34m(\u001b[0m\u001b[0;34m\"Invalid Message:\"\u001b[0m\u001b[0;34m,\u001b[0m \u001b[0mexc_info\u001b[0m\u001b[0;34m=\u001b[0m\u001b[0;32mTrue\u001b[0m\u001b[0;34m)\u001b[0m\u001b[0;34m\u001b[0m\u001b[0;34m\u001b[0m\u001b[0m\n",
            "\u001b[0;31mKeyboardInterrupt\u001b[0m: Interrupted by user"
          ]
        }
      ],
      "source": [
        "fh = file_contents\n",
        "count = 0\n",
        "\n",
        "print(\"Было\", count, \"подходящих строк\")\n"
      ]
    },
    {
      "cell_type": "markdown",
      "metadata": {
        "id": "z0YiKMzYapKi"
      },
      "source": [
        "---\n",
        "9.4 Напишите программу для чтения через mbox-short.txt и выясните, кто отправил наибольшее количество сообщений электронной почты. Программа ищет строки \"From \" и принимает второе слово в этих строках за имя человека, отправившего письмо. Программа создает словарь Python, который сопоставляет почтовый адрес отправителя с количеством раз, когда он появляется в файле. После создания словаря программа просматривает словарь, используя максимальный цикл, чтобы найти наиболее плодовитого отправителя.\n",
        "\n",
        "`cwen@iupui.edu 5`"
      ]
    },
    {
      "cell_type": "code",
      "execution_count": 8,
      "metadata": {
        "colab": {
          "base_uri": "https://localhost:8080/",
          "height": 38
        },
        "id": "UJso758FaqSg",
        "outputId": "17dc63c4-a183-49cb-a9e8-5cdac088a0fa"
      },
      "outputs": [
        {
          "ename": "FileNotFoundError",
          "evalue": "[Errno 2] No such file or directory: 'питон'",
          "output_type": "error",
          "traceback": [
            "\u001b[0;31m---------------------------------------------------------------------------\u001b[0m",
            "\u001b[0;31mFileNotFoundError\u001b[0m                         Traceback (most recent call last)",
            "\u001b[1;32m/Users/veraivanova/Desktop/лабы/Базовый_Python.ipynb Ячейка 30\u001b[0m line \u001b[0;36m4\n\u001b[1;32m      <a href='vscode-notebook-cell:/Users/veraivanova/Desktop/%D0%BB%D0%B0%D0%B1%D1%8B/%D0%91%D0%B0%D0%B7%D0%BE%D0%B2%D1%8B%D0%B8%CC%86_Python.ipynb#X36sZmlsZQ%3D%3D?line=1'>2</a>\u001b[0m \u001b[39mif\u001b[39;00m \u001b[39mlen\u001b[39m(name) \u001b[39m<\u001b[39m \u001b[39m1\u001b[39m:\n\u001b[1;32m      <a href='vscode-notebook-cell:/Users/veraivanova/Desktop/%D0%BB%D0%B0%D0%B1%D1%8B/%D0%91%D0%B0%D0%B7%D0%BE%D0%B2%D1%8B%D0%B8%CC%86_Python.ipynb#X36sZmlsZQ%3D%3D?line=2'>3</a>\u001b[0m     name \u001b[39m=\u001b[39m \u001b[39m\"\u001b[39m\u001b[39mmbox-short.txt\u001b[39m\u001b[39m\"\u001b[39m\n\u001b[0;32m----> <a href='vscode-notebook-cell:/Users/veraivanova/Desktop/%D0%BB%D0%B0%D0%B1%D1%8B/%D0%91%D0%B0%D0%B7%D0%BE%D0%B2%D1%8B%D0%B8%CC%86_Python.ipynb#X36sZmlsZQ%3D%3D?line=3'>4</a>\u001b[0m handle \u001b[39m=\u001b[39m \u001b[39mopen\u001b[39;49m(name)\n",
            "File \u001b[0;32m~/miniconda3/lib/python3.11/site-packages/IPython/core/interactiveshell.py:310\u001b[0m, in \u001b[0;36m_modified_open\u001b[0;34m(file, *args, **kwargs)\u001b[0m\n\u001b[1;32m    303\u001b[0m \u001b[39mif\u001b[39;00m file \u001b[39min\u001b[39;00m {\u001b[39m0\u001b[39m, \u001b[39m1\u001b[39m, \u001b[39m2\u001b[39m}:\n\u001b[1;32m    304\u001b[0m     \u001b[39mraise\u001b[39;00m \u001b[39mValueError\u001b[39;00m(\n\u001b[1;32m    305\u001b[0m         \u001b[39mf\u001b[39m\u001b[39m\"\u001b[39m\u001b[39mIPython won\u001b[39m\u001b[39m'\u001b[39m\u001b[39mt let you open fd=\u001b[39m\u001b[39m{\u001b[39;00mfile\u001b[39m}\u001b[39;00m\u001b[39m by default \u001b[39m\u001b[39m\"\u001b[39m\n\u001b[1;32m    306\u001b[0m         \u001b[39m\"\u001b[39m\u001b[39mas it is likely to crash IPython. If you know what you are doing, \u001b[39m\u001b[39m\"\u001b[39m\n\u001b[1;32m    307\u001b[0m         \u001b[39m\"\u001b[39m\u001b[39myou can use builtins\u001b[39m\u001b[39m'\u001b[39m\u001b[39m open.\u001b[39m\u001b[39m\"\u001b[39m\n\u001b[1;32m    308\u001b[0m     )\n\u001b[0;32m--> 310\u001b[0m \u001b[39mreturn\u001b[39;00m io_open(file, \u001b[39m*\u001b[39;49margs, \u001b[39m*\u001b[39;49m\u001b[39m*\u001b[39;49mkwargs)\n",
            "\u001b[0;31mFileNotFoundError\u001b[0m: [Errno 2] No such file or directory: 'питон'"
          ]
        }
      ],
      "source": [
        "name = input(\"Название файла:\")\n",
        "if len(name) < 1:\n",
        "    name = \"mbox-short.txt\"\n",
        "handle = open(name)"
      ]
    },
    {
      "cell_type": "markdown",
      "metadata": {
        "id": "Uu1UbDMua-Ly"
      },
      "source": [
        "---\n",
        "10.2 Напишите программу для чтения через mbox-short.txt и вычислите распределение по часам дня для каждого из сообщений. Вы можете извлечь час из строки \"From \", найдя время, а затем разделив строку во второй раз с помощью двоеточия.\n",
        "\n",
        "From stephen.marquard@uct.ac.za Sat Jan  5 09:14:16 2008\n",
        "\n",
        "Как только вы подсчитаете количество за каждый час, распечатайте их, отсортировав по часам, как показано ниже.\n",
        "```\n",
        "04 3\n",
        "06 1\n",
        "07 1\n",
        "09 2\n",
        "10 3\n",
        "11 6\n",
        "14 1\n",
        "15 2\n",
        "```"
      ]
    },
    {
      "cell_type": "code",
      "execution_count": 10,
      "metadata": {
        "id": "R78dx7sqbMXW"
      },
      "outputs": [
        {
          "ename": "FileNotFoundError",
          "evalue": "[Errno 2] No such file or directory: ' stephen.marquard@uct.ac.za '",
          "output_type": "error",
          "traceback": [
            "\u001b[0;31m---------------------------------------------------------------------------\u001b[0m",
            "\u001b[0;31mFileNotFoundError\u001b[0m                         Traceback (most recent call last)",
            "\u001b[1;32m/Users/veraivanova/Desktop/лабы/Базовый_Python.ipynb Ячейка 32\u001b[0m line \u001b[0;36m4\n\u001b[1;32m      <a href='vscode-notebook-cell:/Users/veraivanova/Desktop/%D0%BB%D0%B0%D0%B1%D1%8B/%D0%91%D0%B0%D0%B7%D0%BE%D0%B2%D1%8B%D0%B8%CC%86_Python.ipynb#X41sZmlsZQ%3D%3D?line=1'>2</a>\u001b[0m \u001b[39mif\u001b[39;00m \u001b[39mlen\u001b[39m(name) \u001b[39m<\u001b[39m \u001b[39m1\u001b[39m:\n\u001b[1;32m      <a href='vscode-notebook-cell:/Users/veraivanova/Desktop/%D0%BB%D0%B0%D0%B1%D1%8B/%D0%91%D0%B0%D0%B7%D0%BE%D0%B2%D1%8B%D0%B8%CC%86_Python.ipynb#X41sZmlsZQ%3D%3D?line=2'>3</a>\u001b[0m     name \u001b[39m=\u001b[39m \u001b[39m\"\u001b[39m\u001b[39mmbox-short.txt\u001b[39m\u001b[39m\"\u001b[39m\n\u001b[0;32m----> <a href='vscode-notebook-cell:/Users/veraivanova/Desktop/%D0%BB%D0%B0%D0%B1%D1%8B/%D0%91%D0%B0%D0%B7%D0%BE%D0%B2%D1%8B%D0%B8%CC%86_Python.ipynb#X41sZmlsZQ%3D%3D?line=3'>4</a>\u001b[0m handle \u001b[39m=\u001b[39m \u001b[39mopen\u001b[39;49m(name)\n",
            "File \u001b[0;32m~/miniconda3/lib/python3.11/site-packages/IPython/core/interactiveshell.py:310\u001b[0m, in \u001b[0;36m_modified_open\u001b[0;34m(file, *args, **kwargs)\u001b[0m\n\u001b[1;32m    303\u001b[0m \u001b[39mif\u001b[39;00m file \u001b[39min\u001b[39;00m {\u001b[39m0\u001b[39m, \u001b[39m1\u001b[39m, \u001b[39m2\u001b[39m}:\n\u001b[1;32m    304\u001b[0m     \u001b[39mraise\u001b[39;00m \u001b[39mValueError\u001b[39;00m(\n\u001b[1;32m    305\u001b[0m         \u001b[39mf\u001b[39m\u001b[39m\"\u001b[39m\u001b[39mIPython won\u001b[39m\u001b[39m'\u001b[39m\u001b[39mt let you open fd=\u001b[39m\u001b[39m{\u001b[39;00mfile\u001b[39m}\u001b[39;00m\u001b[39m by default \u001b[39m\u001b[39m\"\u001b[39m\n\u001b[1;32m    306\u001b[0m         \u001b[39m\"\u001b[39m\u001b[39mas it is likely to crash IPython. If you know what you are doing, \u001b[39m\u001b[39m\"\u001b[39m\n\u001b[1;32m    307\u001b[0m         \u001b[39m\"\u001b[39m\u001b[39myou can use builtins\u001b[39m\u001b[39m'\u001b[39m\u001b[39m open.\u001b[39m\u001b[39m\"\u001b[39m\n\u001b[1;32m    308\u001b[0m     )\n\u001b[0;32m--> 310\u001b[0m \u001b[39mreturn\u001b[39;00m io_open(file, \u001b[39m*\u001b[39;49margs, \u001b[39m*\u001b[39;49m\u001b[39m*\u001b[39;49mkwargs)\n",
            "\u001b[0;31mFileNotFoundError\u001b[0m: [Errno 2] No such file or directory: ' stephen.marquard@uct.ac.za '"
          ]
        }
      ],
      "source": [
        "name = input(\"Название файла:\")\n",
        "if len(name) < 1:\n",
        "    name = \"mbox-short.txt\"\n",
        "handle = open(name)"
      ]
    },
    {
      "cell_type": "markdown",
      "metadata": {
        "id": "4ZFLnruKY2Je"
      },
      "source": [
        "---\n",
        "4.6 Напишите программу, которая запрашивала бы у пользователя количество часов и почасовую ставку, используя входные данные для расчета заработной платы. Оплата должна быть по обычной ставке за отработанные часы до 40 и в полтора раза больше почасовой ставки за все отработанные часы свыше 40 часов. Поместите логику для вычисления оплаты в функцию с именем `computepay()` и используйте эту функцию для выполнения вычисления. Функция должна возвращать значение. Используйте 45 часов и ставку 1050 в час для тестирования программы (оплата должна составлять 49875). Вы должны использовать input для чтения строки и float() для преобразования строки в число. Не беспокойтесь об ошибках при проверке пользовательского ввода, если вы этого не хотите - вы можете предположить, что пользователь вводит числа правильно. Не присваивайте переменной sum имя и не используйте функцию sum()."
      ]
    },
    {
      "cell_type": "code",
      "execution_count": 11,
      "metadata": {
        "id": "Vn9B_PnRY_2s"
      },
      "outputs": [
        {
          "name": "stdout",
          "output_type": "stream",
          "text": [
            "Заработная плата: 49875.0\n"
          ]
        }
      ],
      "source": [
        "def computepay(hours, rate):\n",
        "    if hours <= 40:\n",
        "        total_pay = hours * rate\n",
        "    else:\n",
        "        regular_pay = 40 * rate\n",
        "        overtime_hours = hours - 40\n",
        "        overtime_pay = overtime_hours * (1.5 * rate)\n",
        "        total_pay = regular_pay + overtime_pay\n",
        "    return total_pay\n",
        "\n",
        "hours = float(input(\"Введите количество отработанных часов: \"))\n",
        "rate = float(input(\"Введите почасовую ставку: \"))\n",
        "\n",
        "pay = computepay(hours, rate)\n",
        "print(\"Заработная плата:\", pay)"
      ]
    },
    {
      "cell_type": "markdown",
      "metadata": {
        "id": "2U9RORr9boF5"
      },
      "source": [
        "---\n",
        "Напишите программу на Python для создания класса Vehicle с атрибутами max_speed и mileage.\n",
        "\n"
      ]
    },
    {
      "cell_type": "code",
      "execution_count": 12,
      "metadata": {
        "id": "bQRvgRfjbpS1"
      },
      "outputs": [
        {
          "name": "stdout",
          "output_type": "stream",
          "text": [
            "Максимальная скорость: 400\n",
            "Пробег: 10000\n"
          ]
        }
      ],
      "source": [
        "class Vehicle:\n",
        "    def __init__(self, max_speed, mileage):\n",
        "        self.max_speed = max_speed\n",
        "        self.mileage = mileage\n",
        "\n",
        "car = Vehicle(400, 10000)\n",
        "\n",
        "print(\"Максимальная скорость:\", car.max_speed)\n",
        "print(\"Пробег:\", car.mileage)"
      ]
    },
    {
      "cell_type": "markdown",
      "metadata": {
        "id": "bKef06qRbsq_"
      },
      "source": [
        "---\n",
        "Создайте класс Bus, который наследуется от класса Vehicle. Присвойте аргументу capacity функции Bus.seating_capacity() значение по умолчанию 50.\n",
        "\n",
        "Используйте следующий код для вашего родительского класса Vehicle.\n",
        "Ожидаемый результат:\n",
        "`Вместимость автобуса составляет 50 пассажиров`"
      ]
    },
    {
      "cell_type": "code",
      "execution_count": 13,
      "metadata": {
        "id": "-sp1hczQb9zF"
      },
      "outputs": [
        {
          "name": "stdout",
          "output_type": "stream",
          "text": [
            "Вместимость автобуса составляет 50 пассажиров\n"
          ]
        }
      ],
      "source": [
        "class Bus(Vehicle):\n",
        "    def seating_capacity(self, capacity = 50):\n",
        "      return capacity\n",
        "bus = Bus(120, 30000)\n",
        "\n",
        "print(\"Вместимость автобуса составляет\", bus.seating_capacity() , \"пассажиров\")"
      ]
    },
    {
      "cell_type": "markdown",
      "metadata": {
        "id": "0fr18II-cSpR"
      },
      "source": [
        "---\n",
        "Создайте свойство, которое должно иметь одинаковое значение для каждого экземпляра класса (объекта)\n",
        "\n",
        "Определите атрибут класса ”color” со значением по умолчанию `Белый`. Т.е. каждое транспортное средство должно быть белым.\n",
        "\n",
        "Используйте следующий код для этого упражнения.\n",
        "\n",
        "Ожидаемый результат:\n",
        "```\n",
        "Цвет: Белый, Название автомобиля: Школьный Volvo, Скорость: 180, Пробег: 12\n",
        "Цвет: Белый, Название автомобиля: Audi Q5, Скорость: 240, Пробег: 18``\n"
      ]
    },
    {
      "cell_type": "code",
      "execution_count": 1,
      "metadata": {
        "id": "uiO819dVc2hP"
      },
      "outputs": [
        {
          "name": "stdout",
          "output_type": "stream",
          "text": [
            "Цвет: Белый, Название: Школьный Volvo, Скорость: 180, Пробег: 12\n",
            "Цвет: Белый, Название: Audi Q5, Скорость: 240, Пробег: 18\n"
          ]
        }
      ],
      "source": [
        "class Vehicle:\n",
        "    color = \"Белый\"\n",
        "\n",
        "    def __init__(self, name, speed, mileage):\n",
        "        self.name, self.speed, self.mileage = name, speed, mileage\n",
        "\n",
        "    def display_info(self):\n",
        "        print(f\"Цвет: {self.color}, Название: {self.name}, Скорость: {self.speed}, Пробег: {self.mileage}\")\n",
        "\n",
        "vehicle1 = Vehicle(\"Школьный Volvo\", 180, 12)\n",
        "vehicle2 = Vehicle(\"Audi Q5\", 240, 18)\n",
        "\n",
        "vehicle1.display_info()\n",
        "vehicle2.display_info()"
      ]
    }
  ],
  "metadata": {
    "colab": {
      "provenance": []
    },
    "kernelspec": {
      "display_name": "Python 3",
      "name": "python3"
    },
    "language_info": {
      "codemirror_mode": {
        "name": "ipython",
        "version": 3
      },
      "file_extension": ".py",
      "mimetype": "text/x-python",
      "name": "python",
      "nbconvert_exporter": "python",
      "pygments_lexer": "ipython3",
      "version": "3.11.6"
    }
  },
  "nbformat": 4,
  "nbformat_minor": 0
}
