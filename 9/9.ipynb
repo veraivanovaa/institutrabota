{
 "cells": [
  {
   "cell_type": "markdown",
   "metadata": {},
   "source": [
    "# Работа со статистическими данными. Построение графиков\n",
    "\n",
    "В качестве основных инструментов используем pandas и plotly. За каждым студентом закреплен анализ отдельного столбца.\n",
    "\n",
    "https://pandas.pydata.org/docs/user_guide/10min.html\n"
   ]
  },
  {
   "cell_type": "code",
   "execution_count": null,
   "metadata": {},
   "outputs": [],
   "source": []
  },
  {
   "cell_type": "markdown",
   "metadata": {},
   "source": [
    "Импортируем таблицу из xlsx файла с помощью `pandas.read_excel()`"
   ]
  },
  {
   "cell_type": "code",
   "execution_count": 1,
   "metadata": {},
   "outputs": [
    {
     "name": "stdout",
     "output_type": "stream",
     "text": [
      "      STUDENTID  AGE  GENDER  HS_TYPE  SCHOLARSHIP  WORK  ACTIVITY  PARTNER  \\\n",
      "0      STUDENT1    2       2        3            3     1         2        2   \n",
      "1      STUDENT2    2       2        3            3     1         2        2   \n",
      "2      STUDENT3    2       2        2            3     2         2        2   \n",
      "3      STUDENT4    1       1        1            3     1         2        1   \n",
      "4      STUDENT5    2       2        1            3     2         2        1   \n",
      "..          ...  ...     ...      ...          ...   ...       ...      ...   \n",
      "140  STUDENT141    2       1        2            3     1         1        2   \n",
      "141  STUDENT142    1       1        2            4     2         2        2   \n",
      "142  STUDENT143    1       1        1            4     2         2        2   \n",
      "143  STUDENT144    2       1        2            4     1         1        1   \n",
      "144  STUDENT145    1       1        1            5     2         2        2   \n",
      "\n",
      "     SALARY  TRANSPORT  ...  READ_FREQ_SCI  ATTEND_DEPT  IMPACT  ATTEND  \\\n",
      "0         1          1  ...              2            1       1       1   \n",
      "1         1          1  ...              2            1       1       1   \n",
      "2         2          4  ...              2            1       1       1   \n",
      "3         2          1  ...              2            1       1       1   \n",
      "4         3          1  ...              1            1       1       1   \n",
      "..      ...        ...  ...            ...          ...     ...     ...   \n",
      "140       1          1  ...              2            1       1       1   \n",
      "141       1          4  ...              2            2       1       2   \n",
      "142       1          1  ...              2            1       1       1   \n",
      "143       5          2  ...              1            1       1       1   \n",
      "144       3          1  ...              1            1       1       1   \n",
      "\n",
      "     PREP_STUDY  PREP_EXAM  NOTES  LISTENS  LIKES_DISCUSS  CUML_GPA  \n",
      "0             1          1      3        2              1         1  \n",
      "1             1          1      3        2              3         2  \n",
      "2             1          1      2        2              1         2  \n",
      "3             1          2      3        2              2         3  \n",
      "4             2          1      2        2              2         2  \n",
      "..          ...        ...    ...      ...            ...       ...  \n",
      "140           1          1      2        1              2         3  \n",
      "141           1          1      3        2              2         5  \n",
      "142           1          1      3        3              2         4  \n",
      "143           2          1      2        1              2         5  \n",
      "144           2          1      3        2              3         5  \n",
      "\n",
      "[145 rows x 29 columns]\n"
     ]
    }
   ],
   "source": [
    "import pandas as pd\n",
    "\n",
    "data = pd.read_excel('data_1.xlsx', header=1)\n",
    "\n",
    "# Указываем столбец, с которым будем работать\n",
    "column = 'SCHOLARSHIP'\n",
    "\n",
    "print(data)"
   ]
  },
  {
   "cell_type": "code",
   "execution_count": 2,
   "metadata": {},
   "outputs": [
    {
     "name": "stdout",
     "output_type": "stream",
     "text": [
      "      STUDENTID  AGE  GENDER  HS_TYPE  SCHOLARSHIP  WORK  ACTIVITY  PARTNER  \\\n",
      "0      STUDENT1    2       2        3         0.50     1         2        2   \n",
      "1      STUDENT2    2       2        3         0.50     1         2        2   \n",
      "2      STUDENT3    2       2        2         0.50     2         2        2   \n",
      "3      STUDENT4    1       1        1         0.50     1         2        1   \n",
      "4      STUDENT5    2       2        1         0.50     2         2        1   \n",
      "..          ...  ...     ...      ...          ...   ...       ...      ...   \n",
      "140  STUDENT141    2       1        2         0.50     1         1        2   \n",
      "141  STUDENT142    1       1        2         0.75     2         2        2   \n",
      "142  STUDENT143    1       1        1         0.75     2         2        2   \n",
      "143  STUDENT144    2       1        2         0.75     1         1        1   \n",
      "144  STUDENT145    1       1        1         1.00     2         2        2   \n",
      "\n",
      "     SALARY  TRANSPORT  ...  READ_FREQ_SCI  ATTEND_DEPT  IMPACT  ATTEND  \\\n",
      "0         1          1  ...              2            1       1       1   \n",
      "1         1          1  ...              2            1       1       1   \n",
      "2         2          4  ...              2            1       1       1   \n",
      "3         2          1  ...              2            1       1       1   \n",
      "4         3          1  ...              1            1       1       1   \n",
      "..      ...        ...  ...            ...          ...     ...     ...   \n",
      "140       1          1  ...              2            1       1       1   \n",
      "141       1          4  ...              2            2       1       2   \n",
      "142       1          1  ...              2            1       1       1   \n",
      "143       5          2  ...              1            1       1       1   \n",
      "144       3          1  ...              1            1       1       1   \n",
      "\n",
      "     PREP_STUDY  PREP_EXAM  NOTES  LISTENS  LIKES_DISCUSS  CUML_GPA  \n",
      "0             1          1      3        2              1         1  \n",
      "1             1          1      3        2              3         2  \n",
      "2             1          1      2        2              1         2  \n",
      "3             1          2      3        2              2         3  \n",
      "4             2          1      2        2              2         2  \n",
      "..          ...        ...    ...      ...            ...       ...  \n",
      "140           1          1      2        1              2         3  \n",
      "141           1          1      3        2              2         5  \n",
      "142           1          1      3        3              2         4  \n",
      "143           2          1      2        1              2         5  \n",
      "144           2          1      3        2              3         5  \n",
      "\n",
      "[145 rows x 29 columns]\n"
     ]
    }
   ],
   "source": [
    "def scholarship_percent(value):\n",
    "    match value:\n",
    "        case 1:\n",
    "            return 0\n",
    "        case 2:\n",
    "            return 0.25\n",
    "        case 3: \n",
    "            return 0.5\n",
    "        case 4: \n",
    "            return 0.75\n",
    "        case 5: \n",
    "            return 1\n",
    "        case _:\n",
    "            return 0\n",
    "        \n",
    "data[column] = data[column].transform(scholarship_percent)\n",
    "\n",
    "print(data)"
   ]
  },
  {
   "cell_type": "markdown",
   "metadata": {},
   "source": [
    "https://dfedorov.spb.ru/pandas/%D0%92%D0%B7%D0%B3%D0%BB%D1%8F%D0%B4%20%D0%BD%D0%B0%20Plotly.html\n",
    "\n",
    "https://plotly.com/python/"
   ]
  },
  {
   "cell_type": "code",
   "execution_count": 24,
   "metadata": {},
   "outputs": [
    {
     "data": {
      "application/vnd.plotly.v1+json": {
       "config": {
        "plotlyServerURL": "https://plot.ly"
       },
       "data": [
        {
         "alignmentgroup": "True",
         "bingroup": "x",
         "hovertemplate": "SCHOLARSHIP=%{x}<br>count=%{y}<extra></extra>",
         "legendgroup": "",
         "marker": {
          "color": "#636efa",
          "pattern": {
           "shape": ""
          }
         },
         "name": "",
         "offsetgroup": "",
         "orientation": "v",
         "showlegend": false,
         "type": "histogram",
         "x": [
          0.5,
          0.5,
          0.5,
          0.5,
          0.5,
          0.5,
          0.75,
          0.5,
          0.5,
          0.5,
          0.5,
          0.75,
          0.75,
          1,
          0.75,
          0.5,
          1,
          0.5,
          0.75,
          0.5,
          1,
          1,
          0.5,
          0.25,
          0.5,
          0.5,
          0.5,
          0.5,
          0.5,
          0.75,
          1,
          0.5,
          0.5,
          0.5,
          0.5,
          0.75,
          0.75,
          0.5,
          1,
          0.5,
          0.5,
          0.5,
          0.5,
          0.5,
          0.5,
          0.5,
          0.5,
          0.5,
          0.5,
          0.75,
          0.5,
          0.5,
          0.5,
          0.5,
          0.5,
          0.5,
          0.5,
          0.5,
          0.5,
          0.5,
          0.5,
          0.5,
          0.5,
          0.75,
          1,
          0.5,
          0.5,
          0.5,
          0.75,
          0.75,
          0.75,
          0.75,
          0.5,
          0.75,
          0.75,
          0.75,
          0.25,
          0.25,
          0.75,
          0.75,
          0.5,
          0.5,
          0.75,
          0.5,
          0.5,
          1,
          0.75,
          0.5,
          0.75,
          0.5,
          0.5,
          1,
          0.5,
          0,
          0.5,
          1,
          0.75,
          0.75,
          0.75,
          0.5,
          0.75,
          0.75,
          0.5,
          0.75,
          0.5,
          0.75,
          0.75,
          0.75,
          1,
          0.5,
          0.5,
          1,
          0.5,
          0.5,
          1,
          1,
          1,
          0.5,
          1,
          0.75,
          0.5,
          0.5,
          1,
          0.5,
          0.75,
          1,
          0.75,
          0.75,
          0.75,
          0.5,
          0.5,
          1,
          1,
          1,
          0.75,
          0.5,
          0.5,
          1,
          0.75,
          0.75,
          0.5,
          0.75,
          0.75,
          0.75,
          1
         ],
         "xaxis": "x",
         "yaxis": "y"
        }
       ],
       "layout": {
        "barmode": "relative",
        "legend": {
         "tracegroupgap": 0
        },
        "template": {
         "data": {
          "bar": [
           {
            "error_x": {
             "color": "#2a3f5f"
            },
            "error_y": {
             "color": "#2a3f5f"
            },
            "marker": {
             "line": {
              "color": "#E5ECF6",
              "width": 0.5
             },
             "pattern": {
              "fillmode": "overlay",
              "size": 10,
              "solidity": 0.2
             }
            },
            "type": "bar"
           }
          ],
          "barpolar": [
           {
            "marker": {
             "line": {
              "color": "#E5ECF6",
              "width": 0.5
             },
             "pattern": {
              "fillmode": "overlay",
              "size": 10,
              "solidity": 0.2
             }
            },
            "type": "barpolar"
           }
          ],
          "carpet": [
           {
            "aaxis": {
             "endlinecolor": "#2a3f5f",
             "gridcolor": "white",
             "linecolor": "white",
             "minorgridcolor": "white",
             "startlinecolor": "#2a3f5f"
            },
            "baxis": {
             "endlinecolor": "#2a3f5f",
             "gridcolor": "white",
             "linecolor": "white",
             "minorgridcolor": "white",
             "startlinecolor": "#2a3f5f"
            },
            "type": "carpet"
           }
          ],
          "choropleth": [
           {
            "colorbar": {
             "outlinewidth": 0,
             "ticks": ""
            },
            "type": "choropleth"
           }
          ],
          "contour": [
           {
            "colorbar": {
             "outlinewidth": 0,
             "ticks": ""
            },
            "colorscale": [
             [
              0,
              "#0d0887"
             ],
             [
              0.1111111111111111,
              "#46039f"
             ],
             [
              0.2222222222222222,
              "#7201a8"
             ],
             [
              0.3333333333333333,
              "#9c179e"
             ],
             [
              0.4444444444444444,
              "#bd3786"
             ],
             [
              0.5555555555555556,
              "#d8576b"
             ],
             [
              0.6666666666666666,
              "#ed7953"
             ],
             [
              0.7777777777777778,
              "#fb9f3a"
             ],
             [
              0.8888888888888888,
              "#fdca26"
             ],
             [
              1,
              "#f0f921"
             ]
            ],
            "type": "contour"
           }
          ],
          "contourcarpet": [
           {
            "colorbar": {
             "outlinewidth": 0,
             "ticks": ""
            },
            "type": "contourcarpet"
           }
          ],
          "heatmap": [
           {
            "colorbar": {
             "outlinewidth": 0,
             "ticks": ""
            },
            "colorscale": [
             [
              0,
              "#0d0887"
             ],
             [
              0.1111111111111111,
              "#46039f"
             ],
             [
              0.2222222222222222,
              "#7201a8"
             ],
             [
              0.3333333333333333,
              "#9c179e"
             ],
             [
              0.4444444444444444,
              "#bd3786"
             ],
             [
              0.5555555555555556,
              "#d8576b"
             ],
             [
              0.6666666666666666,
              "#ed7953"
             ],
             [
              0.7777777777777778,
              "#fb9f3a"
             ],
             [
              0.8888888888888888,
              "#fdca26"
             ],
             [
              1,
              "#f0f921"
             ]
            ],
            "type": "heatmap"
           }
          ],
          "heatmapgl": [
           {
            "colorbar": {
             "outlinewidth": 0,
             "ticks": ""
            },
            "colorscale": [
             [
              0,
              "#0d0887"
             ],
             [
              0.1111111111111111,
              "#46039f"
             ],
             [
              0.2222222222222222,
              "#7201a8"
             ],
             [
              0.3333333333333333,
              "#9c179e"
             ],
             [
              0.4444444444444444,
              "#bd3786"
             ],
             [
              0.5555555555555556,
              "#d8576b"
             ],
             [
              0.6666666666666666,
              "#ed7953"
             ],
             [
              0.7777777777777778,
              "#fb9f3a"
             ],
             [
              0.8888888888888888,
              "#fdca26"
             ],
             [
              1,
              "#f0f921"
             ]
            ],
            "type": "heatmapgl"
           }
          ],
          "histogram": [
           {
            "marker": {
             "pattern": {
              "fillmode": "overlay",
              "size": 10,
              "solidity": 0.2
             }
            },
            "type": "histogram"
           }
          ],
          "histogram2d": [
           {
            "colorbar": {
             "outlinewidth": 0,
             "ticks": ""
            },
            "colorscale": [
             [
              0,
              "#0d0887"
             ],
             [
              0.1111111111111111,
              "#46039f"
             ],
             [
              0.2222222222222222,
              "#7201a8"
             ],
             [
              0.3333333333333333,
              "#9c179e"
             ],
             [
              0.4444444444444444,
              "#bd3786"
             ],
             [
              0.5555555555555556,
              "#d8576b"
             ],
             [
              0.6666666666666666,
              "#ed7953"
             ],
             [
              0.7777777777777778,
              "#fb9f3a"
             ],
             [
              0.8888888888888888,
              "#fdca26"
             ],
             [
              1,
              "#f0f921"
             ]
            ],
            "type": "histogram2d"
           }
          ],
          "histogram2dcontour": [
           {
            "colorbar": {
             "outlinewidth": 0,
             "ticks": ""
            },
            "colorscale": [
             [
              0,
              "#0d0887"
             ],
             [
              0.1111111111111111,
              "#46039f"
             ],
             [
              0.2222222222222222,
              "#7201a8"
             ],
             [
              0.3333333333333333,
              "#9c179e"
             ],
             [
              0.4444444444444444,
              "#bd3786"
             ],
             [
              0.5555555555555556,
              "#d8576b"
             ],
             [
              0.6666666666666666,
              "#ed7953"
             ],
             [
              0.7777777777777778,
              "#fb9f3a"
             ],
             [
              0.8888888888888888,
              "#fdca26"
             ],
             [
              1,
              "#f0f921"
             ]
            ],
            "type": "histogram2dcontour"
           }
          ],
          "mesh3d": [
           {
            "colorbar": {
             "outlinewidth": 0,
             "ticks": ""
            },
            "type": "mesh3d"
           }
          ],
          "parcoords": [
           {
            "line": {
             "colorbar": {
              "outlinewidth": 0,
              "ticks": ""
             }
            },
            "type": "parcoords"
           }
          ],
          "pie": [
           {
            "automargin": true,
            "type": "pie"
           }
          ],
          "scatter": [
           {
            "fillpattern": {
             "fillmode": "overlay",
             "size": 10,
             "solidity": 0.2
            },
            "type": "scatter"
           }
          ],
          "scatter3d": [
           {
            "line": {
             "colorbar": {
              "outlinewidth": 0,
              "ticks": ""
             }
            },
            "marker": {
             "colorbar": {
              "outlinewidth": 0,
              "ticks": ""
             }
            },
            "type": "scatter3d"
           }
          ],
          "scattercarpet": [
           {
            "marker": {
             "colorbar": {
              "outlinewidth": 0,
              "ticks": ""
             }
            },
            "type": "scattercarpet"
           }
          ],
          "scattergeo": [
           {
            "marker": {
             "colorbar": {
              "outlinewidth": 0,
              "ticks": ""
             }
            },
            "type": "scattergeo"
           }
          ],
          "scattergl": [
           {
            "marker": {
             "colorbar": {
              "outlinewidth": 0,
              "ticks": ""
             }
            },
            "type": "scattergl"
           }
          ],
          "scattermapbox": [
           {
            "marker": {
             "colorbar": {
              "outlinewidth": 0,
              "ticks": ""
             }
            },
            "type": "scattermapbox"
           }
          ],
          "scatterpolar": [
           {
            "marker": {
             "colorbar": {
              "outlinewidth": 0,
              "ticks": ""
             }
            },
            "type": "scatterpolar"
           }
          ],
          "scatterpolargl": [
           {
            "marker": {
             "colorbar": {
              "outlinewidth": 0,
              "ticks": ""
             }
            },
            "type": "scatterpolargl"
           }
          ],
          "scatterternary": [
           {
            "marker": {
             "colorbar": {
              "outlinewidth": 0,
              "ticks": ""
             }
            },
            "type": "scatterternary"
           }
          ],
          "surface": [
           {
            "colorbar": {
             "outlinewidth": 0,
             "ticks": ""
            },
            "colorscale": [
             [
              0,
              "#0d0887"
             ],
             [
              0.1111111111111111,
              "#46039f"
             ],
             [
              0.2222222222222222,
              "#7201a8"
             ],
             [
              0.3333333333333333,
              "#9c179e"
             ],
             [
              0.4444444444444444,
              "#bd3786"
             ],
             [
              0.5555555555555556,
              "#d8576b"
             ],
             [
              0.6666666666666666,
              "#ed7953"
             ],
             [
              0.7777777777777778,
              "#fb9f3a"
             ],
             [
              0.8888888888888888,
              "#fdca26"
             ],
             [
              1,
              "#f0f921"
             ]
            ],
            "type": "surface"
           }
          ],
          "table": [
           {
            "cells": {
             "fill": {
              "color": "#EBF0F8"
             },
             "line": {
              "color": "white"
             }
            },
            "header": {
             "fill": {
              "color": "#C8D4E3"
             },
             "line": {
              "color": "white"
             }
            },
            "type": "table"
           }
          ]
         },
         "layout": {
          "annotationdefaults": {
           "arrowcolor": "#2a3f5f",
           "arrowhead": 0,
           "arrowwidth": 1
          },
          "autotypenumbers": "strict",
          "coloraxis": {
           "colorbar": {
            "outlinewidth": 0,
            "ticks": ""
           }
          },
          "colorscale": {
           "diverging": [
            [
             0,
             "#8e0152"
            ],
            [
             0.1,
             "#c51b7d"
            ],
            [
             0.2,
             "#de77ae"
            ],
            [
             0.3,
             "#f1b6da"
            ],
            [
             0.4,
             "#fde0ef"
            ],
            [
             0.5,
             "#f7f7f7"
            ],
            [
             0.6,
             "#e6f5d0"
            ],
            [
             0.7,
             "#b8e186"
            ],
            [
             0.8,
             "#7fbc41"
            ],
            [
             0.9,
             "#4d9221"
            ],
            [
             1,
             "#276419"
            ]
           ],
           "sequential": [
            [
             0,
             "#0d0887"
            ],
            [
             0.1111111111111111,
             "#46039f"
            ],
            [
             0.2222222222222222,
             "#7201a8"
            ],
            [
             0.3333333333333333,
             "#9c179e"
            ],
            [
             0.4444444444444444,
             "#bd3786"
            ],
            [
             0.5555555555555556,
             "#d8576b"
            ],
            [
             0.6666666666666666,
             "#ed7953"
            ],
            [
             0.7777777777777778,
             "#fb9f3a"
            ],
            [
             0.8888888888888888,
             "#fdca26"
            ],
            [
             1,
             "#f0f921"
            ]
           ],
           "sequentialminus": [
            [
             0,
             "#0d0887"
            ],
            [
             0.1111111111111111,
             "#46039f"
            ],
            [
             0.2222222222222222,
             "#7201a8"
            ],
            [
             0.3333333333333333,
             "#9c179e"
            ],
            [
             0.4444444444444444,
             "#bd3786"
            ],
            [
             0.5555555555555556,
             "#d8576b"
            ],
            [
             0.6666666666666666,
             "#ed7953"
            ],
            [
             0.7777777777777778,
             "#fb9f3a"
            ],
            [
             0.8888888888888888,
             "#fdca26"
            ],
            [
             1,
             "#f0f921"
            ]
           ]
          },
          "colorway": [
           "#636efa",
           "#EF553B",
           "#00cc96",
           "#ab63fa",
           "#FFA15A",
           "#19d3f3",
           "#FF6692",
           "#B6E880",
           "#FF97FF",
           "#FECB52"
          ],
          "font": {
           "color": "#2a3f5f"
          },
          "geo": {
           "bgcolor": "white",
           "lakecolor": "white",
           "landcolor": "#E5ECF6",
           "showlakes": true,
           "showland": true,
           "subunitcolor": "white"
          },
          "hoverlabel": {
           "align": "left"
          },
          "hovermode": "closest",
          "mapbox": {
           "style": "light"
          },
          "paper_bgcolor": "white",
          "plot_bgcolor": "#E5ECF6",
          "polar": {
           "angularaxis": {
            "gridcolor": "white",
            "linecolor": "white",
            "ticks": ""
           },
           "bgcolor": "#E5ECF6",
           "radialaxis": {
            "gridcolor": "white",
            "linecolor": "white",
            "ticks": ""
           }
          },
          "scene": {
           "xaxis": {
            "backgroundcolor": "#E5ECF6",
            "gridcolor": "white",
            "gridwidth": 2,
            "linecolor": "white",
            "showbackground": true,
            "ticks": "",
            "zerolinecolor": "white"
           },
           "yaxis": {
            "backgroundcolor": "#E5ECF6",
            "gridcolor": "white",
            "gridwidth": 2,
            "linecolor": "white",
            "showbackground": true,
            "ticks": "",
            "zerolinecolor": "white"
           },
           "zaxis": {
            "backgroundcolor": "#E5ECF6",
            "gridcolor": "white",
            "gridwidth": 2,
            "linecolor": "white",
            "showbackground": true,
            "ticks": "",
            "zerolinecolor": "white"
           }
          },
          "shapedefaults": {
           "line": {
            "color": "#2a3f5f"
           }
          },
          "ternary": {
           "aaxis": {
            "gridcolor": "white",
            "linecolor": "white",
            "ticks": ""
           },
           "baxis": {
            "gridcolor": "white",
            "linecolor": "white",
            "ticks": ""
           },
           "bgcolor": "#E5ECF6",
           "caxis": {
            "gridcolor": "white",
            "linecolor": "white",
            "ticks": ""
           }
          },
          "title": {
           "x": 0.05
          },
          "xaxis": {
           "automargin": true,
           "gridcolor": "white",
           "linecolor": "white",
           "ticks": "",
           "title": {
            "standoff": 15
           },
           "zerolinecolor": "white",
           "zerolinewidth": 2
          },
          "yaxis": {
           "automargin": true,
           "gridcolor": "white",
           "linecolor": "white",
           "ticks": "",
           "title": {
            "standoff": 15
           },
           "zerolinecolor": "white",
           "zerolinewidth": 2
          }
         }
        },
        "title": {
         "text": "Распределение стипендий"
        },
        "xaxis": {
         "anchor": "y",
         "domain": [
          0,
          1
         ],
         "title": {
          "text": "SCHOLARSHIP"
         }
        },
        "yaxis": {
         "anchor": "x",
         "domain": [
          0,
          1
         ],
         "title": {
          "text": "count"
         }
        }
       }
      }
     },
     "metadata": {},
     "output_type": "display_data"
    }
   ],
   "source": [
    "import plotly.express as px\n",
    "\n",
    "fig = px.histogram(data[column],\n",
    "               x=column,\n",
    "                   title='Распределение стипендий')\n",
    "\n",
    "fig.show()"
   ]
  },
  {
   "cell_type": "markdown",
   "metadata": {},
   "source": [
    "### 1. Получить: \n",
    "1. среднее арифметическое\n",
    "2. среднее геометрическое\n",
    "3. моду\n",
    "4. медиану"
   ]
  },
  {
   "cell_type": "code",
   "execution_count": 23,
   "metadata": {},
   "outputs": [
    {
     "name": "stdout",
     "output_type": "stream",
     "text": [
      "Среднее арифметическое =  0.6431034482758621\n"
     ]
    }
   ],
   "source": [
    "mean = data[column].mean()\n",
    "print(\"Среднее арифметическое = \", mean)"
   ]
  },
  {
   "cell_type": "markdown",
   "metadata": {},
   "source": [
    "### 2. Рассчитать: \n",
    "1. квартиль\n",
    "2. минимальное и максимальное значение\n",
    "3. размах вариации\n",
    "4. среднее линейное отклонение"
   ]
  },
  {
   "cell_type": "code",
   "execution_count": 22,
   "metadata": {},
   "outputs": [
    {
     "name": "stdout",
     "output_type": "stream",
     "text": [
      "Квартиль =  0.5\n"
     ]
    }
   ],
   "source": [
    "quantile = data[column].quantile(0.5)\n",
    "print('Квартиль = ', quantile)"
   ]
  },
  {
   "cell_type": "markdown",
   "metadata": {},
   "source": [
    "### 3. Рассчитать: \n",
    "1. дисперсию\n",
    "2. среднее квадратичное отклонение\n",
    "3. коэффициент осцилляции\n",
    "4. линейный коэффициент вариации"
   ]
  },
  {
   "cell_type": "code",
   "execution_count": 21,
   "metadata": {},
   "outputs": [
    {
     "name": "stdout",
     "output_type": "stream",
     "text": [
      "Дисперсия =  0.20143760145437958 \n",
      "\n",
      "count    145.000000\n",
      "mean       0.643103\n",
      "std        0.201438\n",
      "min        0.000000\n",
      "25%        0.500000\n",
      "50%        0.500000\n",
      "75%        0.750000\n",
      "max        1.000000\n",
      "Name: SCHOLARSHIP, dtype: float64\n"
     ]
    }
   ],
   "source": [
    "dispersion = data[column].std()\n",
    "print('Дисперсия = ', dispersion, '\\n')\n",
    "\n",
    "# Базовая статистика датасета: https://pandas.pydata.org/docs/reference/api/pandas.DataFrame.describe.html\n",
    "print(data[column].describe())"
   ]
  },
  {
   "cell_type": "markdown",
   "metadata": {},
   "source": [
    "### 4. Рассчитать следующие значения:\n",
    " 1. коэффициент вариации\n",
    " 2. центральные моменты 3-го и 4-го порядка\n",
    " 3. асимметрию\n",
    " 4. эксцесс"
   ]
  },
  {
   "cell_type": "code",
   "execution_count": 24,
   "metadata": {},
   "outputs": [
    {
     "name": "stdout",
     "output_type": "stream",
     "text": [
      "Коэффициент вариации =  31.322736955372697\n"
     ]
    }
   ],
   "source": [
    "var_coeff = dispersion / mean * 100\n",
    "print(\"Коэффициент вариации = \", var_coeff)"
   ]
  }
 ],
 "metadata": {
  "kernelspec": {
   "display_name": "polytech",
   "language": "python",
   "name": "python3"
  },
  "language_info": {
   "codemirror_mode": {
    "name": "ipython",
    "version": 3
   },
   "file_extension": ".py",
   "mimetype": "text/x-python",
   "name": "python",
   "nbconvert_exporter": "python",
   "pygments_lexer": "ipython3",
   "version": "3.12.0"
  },
  "orig_nbformat": 4
 },
 "nbformat": 4,
 "nbformat_minor": 2
}
